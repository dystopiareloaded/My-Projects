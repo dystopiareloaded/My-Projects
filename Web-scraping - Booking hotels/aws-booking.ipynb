{
 "cells": [
  {
   "cell_type": "markdown",
   "metadata": {},
   "source": [
    "Webscraping website - \"https://www.booking.com/searchresults.html?label=gen173nr-1FCAEoggI46AdIM1gEaGyIAQGYATG4ARfIAQzYAQHoAQH4AQKIAgGoAgO4AtSmksEGwAIB0gIkMGM2NTE2ZjgtMWIyYi00MzgxLWExNTMtODhkOTIzMTIxZGE52AIF4AIB&aid=304142&ss=Kolkata&ssne=Kolkata&ssne_untouched=Kolkata&lang=en-us&src=index&dest_id=-2092511&dest_type=city&checkin=2025-05-14&checkout=2025-05-15&group_adults=2&no_rooms=1&auth_success=1&account_created=1\" "
   ]
  },
  {
   "cell_type": "code",
   "execution_count": 71,
   "metadata": {},
   "outputs": [],
   "source": [
    "from selenium import webdriver\n",
    "from selenium.webdriver.common.by import By\n",
    "from selenium.webdriver.support.ui import WebDriverWait\n",
    "from selenium.webdriver.support import expected_conditions as EC\n",
    "from selenium.common.exceptions import NoSuchElementException, ElementClickInterceptedException, TimeoutException\n",
    "from tqdm import tqdm\n",
    "import time\n",
    "import pandas as pd\n"
   ]
  },
  {
   "cell_type": "code",
   "execution_count": 39,
   "metadata": {},
   "outputs": [],
   "source": [
    "url = 'https://www.booking.com/searchresults.html?label=gen173nr-1FCAEoggI46AdIM1gEaGyIAQGYATG4ARfIAQzYAQHoAQH4AQKIAgGoAgO4AtSmksEGwAIB0gIkMGM2NTE2ZjgtMWIyYi00MzgxLWExNTMtODhkOTIzMTIxZGE52AIF4AIB&aid=304142&ss=Kolkata&ssne=Kolkata&ssne_untouched=Kolkata&lang=en-us&src=index&dest_id=-2092511&dest_type=city&checkin=2025-05-14&checkout=2025-05-15&group_adults=2&no_rooms=1&auth_success=1&account_created=1'"
   ]
  },
  {
   "cell_type": "code",
   "execution_count": null,
   "metadata": {},
   "outputs": [
    {
     "name": "stdout",
     "output_type": "stream",
     "text": [
      "✅ Grid view selected.\n",
      "🔄 Starting infinite scroll...\n"
     ]
    },
    {
     "name": "stderr",
     "output_type": "stream",
     "text": [
      "Scrolling: 4scroll [04:29, 67.29s/scroll]\n",
      "Scrolling: 2scroll [00:10,  5.28s/scroll]"
     ]
    },
    {
     "name": "stdout",
     "output_type": "stream",
     "text": [
      "🟢 Clicked 'Load more'\n"
     ]
    },
    {
     "name": "stderr",
     "output_type": "stream",
     "text": [
      "Scrolling: 3scroll [00:14,  4.78s/scroll]"
     ]
    },
    {
     "name": "stdout",
     "output_type": "stream",
     "text": [
      "🟢 Clicked 'Load more'\n"
     ]
    },
    {
     "name": "stderr",
     "output_type": "stream",
     "text": [
      "Scrolling: 4scroll [00:18,  4.57s/scroll]"
     ]
    },
    {
     "name": "stdout",
     "output_type": "stream",
     "text": [
      "🟢 Clicked 'Load more'\n"
     ]
    },
    {
     "name": "stderr",
     "output_type": "stream",
     "text": [
      "Scrolling: 5scroll [00:23,  4.46s/scroll]"
     ]
    },
    {
     "name": "stdout",
     "output_type": "stream",
     "text": [
      "🟢 Clicked 'Load more'\n"
     ]
    },
    {
     "name": "stderr",
     "output_type": "stream",
     "text": [
      "Scrolling: 6scroll [00:27,  4.40s/scroll]"
     ]
    },
    {
     "name": "stdout",
     "output_type": "stream",
     "text": [
      "🟢 Clicked 'Load more'\n"
     ]
    },
    {
     "name": "stderr",
     "output_type": "stream",
     "text": [
      "Scrolling: 7scroll [00:32,  4.46s/scroll]"
     ]
    },
    {
     "name": "stdout",
     "output_type": "stream",
     "text": [
      "🟢 Clicked 'Load more'\n"
     ]
    },
    {
     "name": "stderr",
     "output_type": "stream",
     "text": [
      "Scrolling: 8scroll [00:36,  4.49s/scroll]"
     ]
    },
    {
     "name": "stdout",
     "output_type": "stream",
     "text": [
      "🟢 Clicked 'Load more'\n"
     ]
    },
    {
     "name": "stderr",
     "output_type": "stream",
     "text": [
      "Scrolling: 9scroll [00:41,  4.52s/scroll]"
     ]
    },
    {
     "name": "stdout",
     "output_type": "stream",
     "text": [
      "🟢 Clicked 'Load more'\n"
     ]
    },
    {
     "name": "stderr",
     "output_type": "stream",
     "text": [
      "Scrolling: 10scroll [00:46,  4.58s/scroll]"
     ]
    },
    {
     "name": "stdout",
     "output_type": "stream",
     "text": [
      "🟢 Clicked 'Load more'\n"
     ]
    },
    {
     "name": "stderr",
     "output_type": "stream",
     "text": [
      "Scrolling: 11scroll [00:50,  4.62s/scroll]"
     ]
    },
    {
     "name": "stdout",
     "output_type": "stream",
     "text": [
      "🟢 Clicked 'Load more'\n"
     ]
    },
    {
     "name": "stderr",
     "output_type": "stream",
     "text": [
      "Scrolling: 12scroll [00:55,  4.64s/scroll]"
     ]
    },
    {
     "name": "stdout",
     "output_type": "stream",
     "text": [
      "🟢 Clicked 'Load more'\n"
     ]
    },
    {
     "name": "stderr",
     "output_type": "stream",
     "text": [
      "Scrolling: 13scroll [01:00,  4.67s/scroll]"
     ]
    },
    {
     "name": "stdout",
     "output_type": "stream",
     "text": [
      "🟢 Clicked 'Load more'\n"
     ]
    },
    {
     "name": "stderr",
     "output_type": "stream",
     "text": [
      "Scrolling: 14scroll [01:04,  4.70s/scroll]"
     ]
    },
    {
     "name": "stdout",
     "output_type": "stream",
     "text": [
      "🟢 Clicked 'Load more'\n"
     ]
    },
    {
     "name": "stderr",
     "output_type": "stream",
     "text": [
      "Scrolling: 15scroll [01:09,  4.75s/scroll]"
     ]
    },
    {
     "name": "stdout",
     "output_type": "stream",
     "text": [
      "🟢 Clicked 'Load more'\n"
     ]
    },
    {
     "name": "stderr",
     "output_type": "stream",
     "text": [
      "Scrolling: 16scroll [01:14,  4.68s/scroll]"
     ]
    },
    {
     "name": "stdout",
     "output_type": "stream",
     "text": [
      "🟢 Clicked 'Load more'\n"
     ]
    },
    {
     "name": "stderr",
     "output_type": "stream",
     "text": [
      "Scrolling: 18scroll [01:24,  4.92s/scroll]"
     ]
    },
    {
     "name": "stdout",
     "output_type": "stream",
     "text": [
      "🛑 No more content to load.\n",
      "✅ Scrolling complete.\n"
     ]
    }
   ],
   "source": [
    "# Setup\n",
    "driver = webdriver.Chrome()\n",
    "driver.get(url)\n",
    "wait = WebDriverWait(driver, 10)\n",
    "\n",
    "# 1. Grid view selection\n",
    "try:\n",
    "    grid_switch = wait.until(EC.element_to_be_clickable((By.XPATH, '//*[@id=\"bodyconstraint-inner\"]/div/div/div[2]/div[3]/div[2]/div[1]/div/span/label[2]')))\n",
    "    grid_switch.click()\n",
    "    print(\"✅ Grid view selected.\")\n",
    "    time.sleep(2)\n",
    "except Exception as e:\n",
    "    print(\"⚠️ Grid switch not found or clickable:\", e)\n",
    "\n",
    "## 2. Apply filter\n",
    "#try:\n",
    "#    filter_xpath = '//div[contains(@id, \"filter_group_popular\")]/div[6]/label'\n",
    "#    filter_element = wait.until(EC.element_to_be_clickable((By.XPATH, filter_xpath)))\n",
    "#    filter_element.click()\n",
    "#    print(\"✅ Filter applied.\")\n",
    "#    time.sleep(2)\n",
    "#except Exception as e:\n",
    "#    print(\"⚠️ Filter not found or not clickable:\", e)\n",
    "\n",
    "# 3. Infinite scroll with Load More if available\n",
    "print(\"🔄 Starting infinite scroll...\")\n",
    "scroll_pause = 2\n",
    "last_height = driver.execute_script(\"return document.body.scrollHeight\")\n",
    "pbar = tqdm(desc=\"Scrolling\", unit=\"scroll\")\n",
    "\n",
    "while True:\n",
    "    # Try clicking 'Load More' if it exists\n",
    "    try:\n",
    "        load_more = WebDriverWait(driver, 3).until(\n",
    "            EC.element_to_be_clickable((By.XPATH, '//*[@id=\"bodyconstraint-inner\"]/div/div/div[2]/div[3]/div[2]/div[2]/div[3]/div[3]/button'))\n",
    "        )\n",
    "        driver.execute_script(\"arguments[0].click();\", load_more)\n",
    "        print(\"🟢 Clicked 'Load more'\")\n",
    "        time.sleep(2)\n",
    "    except (TimeoutException, NoSuchElementException):\n",
    "        pass  # It's okay if there's no button\n",
    "\n",
    "    # Scroll to bottom\n",
    "    driver.execute_script(\"window.scrollTo(0, document.body.scrollHeight);\")\n",
    "    time.sleep(scroll_pause)\n",
    "\n",
    "    # Check for new content\n",
    "    new_height = driver.execute_script(\"return document.body.scrollHeight\")\n",
    "    pbar.update(1)\n",
    "\n",
    "    if new_height == last_height:\n",
    "        print(\"🛑 No more content to load.\")\n",
    "        break\n",
    "\n",
    "    last_height = new_height\n",
    "\n",
    "# Done scrolling — get page source\n",
    "print(\"✅ Scrolling complete.\")\n",
    "\n"
   ]
  },
  {
   "cell_type": "code",
   "execution_count": 46,
   "metadata": {},
   "outputs": [],
   "source": [
    "from bs4 import BeautifulSoup"
   ]
  },
  {
   "cell_type": "code",
   "execution_count": 47,
   "metadata": {},
   "outputs": [],
   "source": [
    "html = driver.page_source\n",
    "soup = BeautifulSoup(html, 'html.parser')"
   ]
  },
  {
   "cell_type": "code",
   "execution_count": 48,
   "metadata": {},
   "outputs": [],
   "source": [
    "hotels = soup.find_all('div', class_='afd3558156 ac28d37f07')"
   ]
  },
  {
   "cell_type": "code",
   "execution_count": 49,
   "metadata": {},
   "outputs": [
    {
     "data": {
      "text/plain": [
       "419"
      ]
     },
     "execution_count": 49,
     "metadata": {},
     "output_type": "execute_result"
    }
   ],
   "source": [
    "len(hotels)"
   ]
  },
  {
   "cell_type": "code",
   "execution_count": 54,
   "metadata": {},
   "outputs": [],
   "source": [
    "import re"
   ]
  },
  {
   "cell_type": "code",
   "execution_count": 76,
   "metadata": {},
   "outputs": [],
   "source": [
    "name, location, price, ratings, reviews, reviews_score = [], [], [], [], [], []\n",
    "\n",
    "for hotel in hotels:\n",
    "    name_tag = hotel.find('div', class_= 'e7addce19e a3e0b4ffd1').text.strip()\n",
    "    #print(name_tag)\n",
    "    name.append(name_tag)\n",
    "\n",
    "    location_tag = hotel.find('span', class_='d823fbbeed f9b3563dd4').text.strip()\n",
    "    #print(location_tag)\n",
    "    location.append(location_tag)\n",
    "\n",
    "    price_tag = hotel.find('span', {'data-testid': 'price-and-discounted-price'})\n",
    "\n",
    "    if price_tag:\n",
    "        price_text = price_tag.get_text(strip=True)\n",
    "        price_number = re.sub(r'[^\\d]', '', price_text)  # Keep only digits\n",
    "        #print(price_number)  # Output: 1363\n",
    "    else:\n",
    "        price_number = None\n",
    "    #print(price_number)    \n",
    "    price.append(price_number)\n",
    "\n",
    "    reviews_tag = hotel.find('span', class_='fff1944c52 f546354b44 becbee2f63')\n",
    "    if reviews_tag is not None:\n",
    "        reviews_tag = reviews_tag.text.strip()\n",
    "    else:\n",
    "        reviews_tag = 'No Reviews'\n",
    "    #print(reviews_tag)\n",
    "    reviews.append(reviews_tag)\n",
    "\n",
    "    reviews_score_tag = hotel.find('span', class_='fff1944c52 fb14de7f14 eaa8455879')\n",
    "    if reviews_score_tag is not None:\n",
    "        reviews_score_text = reviews_score_tag.text.strip()\n",
    "        reviews_count = int(re.sub(r'[^\\d]', '', reviews_score_text))\n",
    "        #print(reviews_count)  # ✅ This will print just: 6\n",
    "    else:\n",
    "        reviews_count = 'Not Available'\n",
    "    #print(reviews_count)\n",
    "    reviews_score.append(reviews_count)\n",
    "\n",
    "\n",
    "    ratings_tag = hotel.find('div', class_='fff1944c52 dff2e52086')\n",
    "    if ratings_tag is not None:\n",
    "        ratings_tag = ratings_tag.text.strip()\n",
    "    else:\n",
    "        ratings_tag = 'No Ratings'\n",
    "    #print(ratings_tag)\n",
    "    ratings.append(reviews_tag)\n",
    "\n",
    "    #print('------------')\n",
    "    #break"
   ]
  },
  {
   "cell_type": "code",
   "execution_count": 77,
   "metadata": {},
   "outputs": [],
   "source": [
    "df = pd.DataFrame({\n",
    "    'Name': name,\n",
    "    'Location': location,\n",
    "    'Price': price,\n",
    "    'Ratings': ratings,\n",
    "    'Reviews': reviews,\n",
    "    'Reviews Score': reviews_score\n",
    "})"
   ]
  },
  {
   "cell_type": "code",
   "execution_count": 80,
   "metadata": {},
   "outputs": [],
   "source": [
    "df.to_csv('Hotels_of_Kolkata.csv', index= False)"
   ]
  },
  {
   "cell_type": "code",
   "execution_count": 78,
   "metadata": {},
   "outputs": [
    {
     "data": {
      "text/html": [
       "<div>\n",
       "<style scoped>\n",
       "    .dataframe tbody tr th:only-of-type {\n",
       "        vertical-align: middle;\n",
       "    }\n",
       "\n",
       "    .dataframe tbody tr th {\n",
       "        vertical-align: top;\n",
       "    }\n",
       "\n",
       "    .dataframe thead th {\n",
       "        text-align: right;\n",
       "    }\n",
       "</style>\n",
       "<table border=\"1\" class=\"dataframe\">\n",
       "  <thead>\n",
       "    <tr style=\"text-align: right;\">\n",
       "      <th></th>\n",
       "      <th>Name</th>\n",
       "      <th>Location</th>\n",
       "      <th>Price</th>\n",
       "      <th>Ratings</th>\n",
       "      <th>Reviews</th>\n",
       "      <th>Reviews Score</th>\n",
       "    </tr>\n",
       "  </thead>\n",
       "  <tbody>\n",
       "    <tr>\n",
       "      <th>0</th>\n",
       "      <td>FabHotel The Hastings Club - Nr Victoria Memorial</td>\n",
       "      <td>Kolkata</td>\n",
       "      <td>1363</td>\n",
       "      <td>Wonderful</td>\n",
       "      <td>Wonderful</td>\n",
       "      <td>6</td>\n",
       "    </tr>\n",
       "    <tr>\n",
       "      <th>1</th>\n",
       "      <td>Vivanta Kolkata EM Bypass</td>\n",
       "      <td>Kolkata</td>\n",
       "      <td>5000</td>\n",
       "      <td>Very Good</td>\n",
       "      <td>Very Good</td>\n",
       "      <td>871</td>\n",
       "    </tr>\n",
       "    <tr>\n",
       "      <th>2</th>\n",
       "      <td>Novotel Kolkata Hotel and Residences</td>\n",
       "      <td>New Town, Kolkata</td>\n",
       "      <td>4699</td>\n",
       "      <td>Very Good</td>\n",
       "      <td>Very Good</td>\n",
       "      <td>1608</td>\n",
       "    </tr>\n",
       "    <tr>\n",
       "      <th>3</th>\n",
       "      <td>Hyatt Regency Kolkata</td>\n",
       "      <td>Salt Lake, Kolkata</td>\n",
       "      <td>6200</td>\n",
       "      <td>Very Good</td>\n",
       "      <td>Very Good</td>\n",
       "      <td>1619</td>\n",
       "    </tr>\n",
       "    <tr>\n",
       "      <th>4</th>\n",
       "      <td>Holiday Inn Express Kolkata Airport by IHG</td>\n",
       "      <td>Kolkata</td>\n",
       "      <td>4999</td>\n",
       "      <td>Good</td>\n",
       "      <td>Good</td>\n",
       "      <td>1700</td>\n",
       "    </tr>\n",
       "  </tbody>\n",
       "</table>\n",
       "</div>"
      ],
      "text/plain": [
       "                                                Name            Location  \\\n",
       "0  FabHotel The Hastings Club - Nr Victoria Memorial             Kolkata   \n",
       "1                          Vivanta Kolkata EM Bypass             Kolkata   \n",
       "2               Novotel Kolkata Hotel and Residences   New Town, Kolkata   \n",
       "3                              Hyatt Regency Kolkata  Salt Lake, Kolkata   \n",
       "4         Holiday Inn Express Kolkata Airport by IHG             Kolkata   \n",
       "\n",
       "  Price    Ratings    Reviews Reviews Score  \n",
       "0  1363  Wonderful  Wonderful             6  \n",
       "1  5000  Very Good  Very Good           871  \n",
       "2  4699  Very Good  Very Good          1608  \n",
       "3  6200  Very Good  Very Good          1619  \n",
       "4  4999       Good       Good          1700  "
      ]
     },
     "execution_count": 78,
     "metadata": {},
     "output_type": "execute_result"
    }
   ],
   "source": [
    "df.head()"
   ]
  },
  {
   "cell_type": "code",
   "execution_count": null,
   "metadata": {},
   "outputs": [],
   "source": []
  }
 ],
 "metadata": {
  "kernelspec": {
   "display_name": "base",
   "language": "python",
   "name": "python3"
  },
  "language_info": {
   "codemirror_mode": {
    "name": "ipython",
    "version": 3
   },
   "file_extension": ".py",
   "mimetype": "text/x-python",
   "name": "python",
   "nbconvert_exporter": "python",
   "pygments_lexer": "ipython3",
   "version": "3.12.7"
  }
 },
 "nbformat": 4,
 "nbformat_minor": 2
}
