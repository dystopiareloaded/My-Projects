{
 "cells": [
  {
   "cell_type": "code",
   "execution_count": 1,
   "id": "755a18e6-c3fe-40fc-a820-c988dcc48b55",
   "metadata": {},
   "outputs": [],
   "source": [
    "import requests\n",
    "from bs4 import BeautifulSoup\n",
    "import pandas as pd\n",
    "import time\n",
    "from tqdm import tqdm"
   ]
  },
  {
   "cell_type": "code",
   "execution_count": 2,
   "id": "4591e908-dd2e-4b5d-bbfc-f50f7d544033",
   "metadata": {},
   "outputs": [],
   "source": [
    "url = 'https://www.amazon.in/s?k=laptops'\n",
    "\n",
    "headers = { 'user-agent' : 'Mozilla/5.0 (Windows NT 10.0; Win64; x64) AppleWebKit/537.36 (KHTML, like Gecko) Chrome/135.0.0.0 Safari/537.36'}"
   ]
  },
  {
   "cell_type": "code",
   "execution_count": 3,
   "id": "7abe1b2c-320a-4f80-be0b-20912dea3d9a",
   "metadata": {},
   "outputs": [],
   "source": [
    "response = requests.get(url, headers=headers)"
   ]
  },
  {
   "cell_type": "code",
   "execution_count": 4,
   "id": "843f1a53-a267-4804-8248-d6c149859e07",
   "metadata": {},
   "outputs": [
    {
     "data": {
      "text/plain": [
       "200"
      ]
     },
     "execution_count": 4,
     "metadata": {},
     "output_type": "execute_result"
    }
   ],
   "source": [
    "response.status_code"
   ]
  },
  {
   "cell_type": "code",
   "execution_count": 5,
   "id": "6efcbdcc-f22a-422b-aad6-502de86be11a",
   "metadata": {},
   "outputs": [],
   "source": [
    "soup = BeautifulSoup(response.text, 'lxml')"
   ]
  },
  {
   "cell_type": "code",
   "execution_count": 6,
   "id": "bec0619e-cce4-473a-820c-9df660749dff",
   "metadata": {},
   "outputs": [],
   "source": [
    "No_of_pages = int(soup.find('span', class_= 's-pagination-item s-pagination-disabled').text)"
   ]
  },
  {
   "cell_type": "code",
   "execution_count": 7,
   "id": "1972db30-9bcd-4fcf-8c04-8bfc0159cf37",
   "metadata": {},
   "outputs": [
    {
     "data": {
      "text/plain": [
       "20"
      ]
     },
     "execution_count": 7,
     "metadata": {},
     "output_type": "execute_result"
    }
   ],
   "source": [
    "No_of_pages"
   ]
  },
  {
   "cell_type": "code",
   "execution_count": 8,
   "id": "d2229be4-d8b8-4b9a-a233-ed32cfa3f10f",
   "metadata": {},
   "outputs": [],
   "source": [
    "#soup.prettify()"
   ]
  },
  {
   "cell_type": "code",
   "execution_count": 9,
   "id": "a8b59c37-bfdd-4e33-8358-dc1ab00b0126",
   "metadata": {},
   "outputs": [],
   "source": [
    "products = soup.find_all('div', {'role':'listitem'})"
   ]
  },
  {
   "cell_type": "code",
   "execution_count": 10,
   "id": "faa319c6-a374-4fce-afe5-7d3b824a63b6",
   "metadata": {},
   "outputs": [
    {
     "data": {
      "text/plain": [
       "28"
      ]
     },
     "execution_count": 10,
     "metadata": {},
     "output_type": "execute_result"
    }
   ],
   "source": [
    "len(products)"
   ]
  },
  {
   "cell_type": "code",
   "execution_count": 11,
   "id": "fcb27a3b-2113-4b03-920b-ea0dbad53f79",
   "metadata": {},
   "outputs": [
    {
     "data": {
      "text/plain": [
       "560"
      ]
     },
     "execution_count": 11,
     "metadata": {},
     "output_type": "execute_result"
    }
   ],
   "source": [
    "28*20"
   ]
  },
  {
   "cell_type": "code",
   "execution_count": 12,
   "id": "58a546fb-5d75-49b5-9a15-92db38819500",
   "metadata": {},
   "outputs": [],
   "source": [
    "name , prices, ratings = [], [], []\n",
    "\n",
    "for product in products:\n",
    "    product_name_tag = product.find('h2', class_='a-size-medium a-spacing-none a-color-base a-text-normal')\n",
    "    if product_name_tag is not None:\n",
    "        product_name = product_name_tag.text.strip()\n",
    "    else:\n",
    "        product_name = 'No name'\n",
    "    name.append(product_name)\n",
    "        \n",
    "    price_tag = product.find('span', class_='a-price-whole')\n",
    "    if price_tag is not None:\n",
    "        price = '₹' + price_tag.text.strip()\n",
    "    else:\n",
    "        price = 'No price'\n",
    "    prices.append(price)\n",
    "\n",
    "    rating_tag = product.find('span', class_='a-icon-alt')\n",
    "    if rating_tag is not None:\n",
    "        rating = rating_tag.text.strip().split(' ')[0]\n",
    "    else:\n",
    "        rating = 'No rating'\n",
    "    ratings.append(rating)\n",
    "        \n",
    "    \n",
    "    #print(product_name)\n",
    "    #print(price)\n",
    "    #print(rating)\n",
    "    #print('---------')\n"
   ]
  },
  {
   "cell_type": "code",
   "execution_count": 13,
   "id": "803d1ea1-bb2d-49fb-8da7-557cf5836612",
   "metadata": {},
   "outputs": [
    {
     "name": "stderr",
     "output_type": "stream",
     "text": [
      "  0%|          | 0/20 [00:00<?, ?it/s]"
     ]
    },
    {
     "name": "stderr",
     "output_type": "stream",
     "text": [
      "100%|██████████| 20/20 [01:33<00:00,  4.65s/it]\n"
     ]
    }
   ],
   "source": [
    "name , prices, ratings = [], [], []\n",
    "\n",
    "for j in tqdm(range(No_of_pages)):\n",
    "\n",
    "    url = 'https://www.amazon.in/s?k=laptop&crid=35O3CA9N3H5JN&sprefix=laptop%2Caps%2C251&ref=nb_sb_noss_2&page={}'.format(j)\n",
    "\n",
    "    headers = { 'user-agent' : 'Mozilla/5.0 (Windows NT 10.0; Win64; x64) AppleWebKit/537.36 (KHTML, like Gecko) Chrome/135.0.0.0 Safari/537.36'}\n",
    "\n",
    "    response = requests.get(url, headers=headers)\n",
    "\n",
    "    soup = BeautifulSoup(response.text, 'lxml')\n",
    "\n",
    "    products = soup.find_all('div', {'role':'listitem'})\n",
    "\n",
    "    \n",
    "\n",
    "    time.sleep(3)\n",
    "\n",
    "    for product in products:\n",
    "        product_name_tag = product.find('h2', class_='a-size-medium a-spacing-none a-color-base a-text-normal')\n",
    "        if product_name_tag is not None:\n",
    "            product_name = product_name_tag.text.strip()\n",
    "        else:\n",
    "            product_name = 'No name'\n",
    "        name.append(product_name)\n",
    "            \n",
    "        price_tag = product.find('span', class_='a-price-whole')\n",
    "        if price_tag is not None:\n",
    "            price = '₹' + price_tag.text.strip()\n",
    "        else:\n",
    "            price = 'No price'\n",
    "        prices.append(price)\n",
    "    \n",
    "        rating_tag = product.find('span', class_='a-icon-alt')\n",
    "        if rating_tag is not None:\n",
    "            rating = rating_tag.text.strip().split(' ')[0]\n",
    "        else:\n",
    "            rating = 'No rating'\n",
    "        ratings.append(rating)\n",
    "    \n",
    "    "
   ]
  },
  {
   "cell_type": "code",
   "execution_count": 14,
   "id": "13ebf2d2-659f-4116-93ac-e8d1fd77e83e",
   "metadata": {},
   "outputs": [
    {
     "data": {
      "text/plain": [
       "28"
      ]
     },
     "execution_count": 14,
     "metadata": {},
     "output_type": "execute_result"
    }
   ],
   "source": [
    "len(products)"
   ]
  },
  {
   "cell_type": "code",
   "execution_count": 15,
   "id": "81102b70-44f3-442a-9654-52b9e947a61d",
   "metadata": {},
   "outputs": [
    {
     "data": {
      "text/plain": [
       "560"
      ]
     },
     "execution_count": 15,
     "metadata": {},
     "output_type": "execute_result"
    }
   ],
   "source": [
    "len(name)"
   ]
  },
  {
   "cell_type": "code",
   "execution_count": 16,
   "id": "e7de9e12-3c8a-4cfc-a5ee-5146b66160c4",
   "metadata": {},
   "outputs": [],
   "source": [
    "data = pd.DataFrame({\n",
    "    'Name': name,\n",
    "    'Price': prices,\n",
    "    'Ratings': ratings\n",
    "})"
   ]
  },
  {
   "cell_type": "code",
   "execution_count": 17,
   "id": "1c734f53-d5d2-420b-a742-3ce125a3de36",
   "metadata": {},
   "outputs": [
    {
     "data": {
      "text/html": [
       "<div>\n",
       "<style scoped>\n",
       "    .dataframe tbody tr th:only-of-type {\n",
       "        vertical-align: middle;\n",
       "    }\n",
       "\n",
       "    .dataframe tbody tr th {\n",
       "        vertical-align: top;\n",
       "    }\n",
       "\n",
       "    .dataframe thead th {\n",
       "        text-align: right;\n",
       "    }\n",
       "</style>\n",
       "<table border=\"1\" class=\"dataframe\">\n",
       "  <thead>\n",
       "    <tr style=\"text-align: right;\">\n",
       "      <th></th>\n",
       "      <th>Name</th>\n",
       "      <th>Price</th>\n",
       "      <th>Ratings</th>\n",
       "    </tr>\n",
       "  </thead>\n",
       "  <tbody>\n",
       "    <tr>\n",
       "      <th>0</th>\n",
       "      <td>CHUWI CoreBook X Pro Laptop 12thGen i5-12450H ...</td>\n",
       "      <td>₹32,990</td>\n",
       "      <td>3.6</td>\n",
       "    </tr>\n",
       "    <tr>\n",
       "      <th>1</th>\n",
       "      <td>HP 15, 12th Gen Intel Core i5-1235U Laptop (16...</td>\n",
       "      <td>₹50,990</td>\n",
       "      <td>4.0</td>\n",
       "    </tr>\n",
       "    <tr>\n",
       "      <th>2</th>\n",
       "      <td>Lenovo IdeaPad Slim 3, Intel Core i5-12450H, 1...</td>\n",
       "      <td>₹49,990</td>\n",
       "      <td>3.9</td>\n",
       "    </tr>\n",
       "    <tr>\n",
       "      <th>3</th>\n",
       "      <td>Lenovo V15 G4 AMD Ryzen 5 7520U 15.6 inch FHD ...</td>\n",
       "      <td>₹34,990</td>\n",
       "      <td>4.6</td>\n",
       "    </tr>\n",
       "    <tr>\n",
       "      <th>4</th>\n",
       "      <td>HP 15s Core i5 12th Gen (8GB RAM/512GB SSD/FHD...</td>\n",
       "      <td>₹43,990</td>\n",
       "      <td>4.0</td>\n",
       "    </tr>\n",
       "    <tr>\n",
       "      <th>...</th>\n",
       "      <td>...</td>\n",
       "      <td>...</td>\n",
       "      <td>...</td>\n",
       "    </tr>\n",
       "    <tr>\n",
       "      <th>555</th>\n",
       "      <td>No name</td>\n",
       "      <td>No price</td>\n",
       "      <td>No rating</td>\n",
       "    </tr>\n",
       "    <tr>\n",
       "      <th>556</th>\n",
       "      <td>No name</td>\n",
       "      <td>No price</td>\n",
       "      <td>No rating</td>\n",
       "    </tr>\n",
       "    <tr>\n",
       "      <th>557</th>\n",
       "      <td>No name</td>\n",
       "      <td>No price</td>\n",
       "      <td>No rating</td>\n",
       "    </tr>\n",
       "    <tr>\n",
       "      <th>558</th>\n",
       "      <td>No name</td>\n",
       "      <td>No price</td>\n",
       "      <td>No rating</td>\n",
       "    </tr>\n",
       "    <tr>\n",
       "      <th>559</th>\n",
       "      <td>No name</td>\n",
       "      <td>No price</td>\n",
       "      <td>No rating</td>\n",
       "    </tr>\n",
       "  </tbody>\n",
       "</table>\n",
       "<p>560 rows × 3 columns</p>\n",
       "</div>"
      ],
      "text/plain": [
       "                                                  Name     Price    Ratings\n",
       "0    CHUWI CoreBook X Pro Laptop 12thGen i5-12450H ...   ₹32,990        3.6\n",
       "1    HP 15, 12th Gen Intel Core i5-1235U Laptop (16...   ₹50,990        4.0\n",
       "2    Lenovo IdeaPad Slim 3, Intel Core i5-12450H, 1...   ₹49,990        3.9\n",
       "3    Lenovo V15 G4 AMD Ryzen 5 7520U 15.6 inch FHD ...   ₹34,990        4.6\n",
       "4    HP 15s Core i5 12th Gen (8GB RAM/512GB SSD/FHD...   ₹43,990        4.0\n",
       "..                                                 ...       ...        ...\n",
       "555                                            No name  No price  No rating\n",
       "556                                            No name  No price  No rating\n",
       "557                                            No name  No price  No rating\n",
       "558                                            No name  No price  No rating\n",
       "559                                            No name  No price  No rating\n",
       "\n",
       "[560 rows x 3 columns]"
      ]
     },
     "execution_count": 17,
     "metadata": {},
     "output_type": "execute_result"
    }
   ],
   "source": [
    "data"
   ]
  },
  {
   "cell_type": "code",
   "execution_count": 18,
   "id": "18f6a700-97ae-4600-a029-f5da4046d526",
   "metadata": {},
   "outputs": [],
   "source": [
    "data.to_csv('amazon-laptops.csv', index= False)"
   ]
  },
  {
   "cell_type": "code",
   "execution_count": null,
   "id": "0a7069b6-b158-4004-aaa2-35022e02d27d",
   "metadata": {},
   "outputs": [],
   "source": []
  }
 ],
 "metadata": {
  "kernelspec": {
   "display_name": "base",
   "language": "python",
   "name": "python3"
  },
  "language_info": {
   "codemirror_mode": {
    "name": "ipython",
    "version": 3
   },
   "file_extension": ".py",
   "mimetype": "text/x-python",
   "name": "python",
   "nbconvert_exporter": "python",
   "pygments_lexer": "ipython3",
   "version": "3.12.7"
  }
 },
 "nbformat": 4,
 "nbformat_minor": 5
}
